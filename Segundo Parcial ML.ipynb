{
  "nbformat": 4,
  "nbformat_minor": 0,
  "metadata": {
    "colab": {
      "name": "Parcial_2.ipynb",
      "provenance": [],
      "collapsed_sections": []
    },
    "kernelspec": {
      "display_name": "Python 3",
      "language": "python",
      "name": "python3"
    },
    "language_info": {
      "codemirror_mode": {
        "name": "ipython",
        "version": 3
      },
      "file_extension": ".py",
      "mimetype": "text/x-python",
      "name": "python",
      "nbconvert_exporter": "python",
      "pygments_lexer": "ipython3",
      "version": "3.8.5"
    }
  },
  "cells": [
    {
      "cell_type": "markdown",
      "metadata": {
        "id": "LDutNVdyWc_w"
      },
      "source": [
        "# **Second Asigment: Machine Learning**\n",
        "\n",
        "\n",
        "\n",
        "*   Armando Miguel Tapia Meza\n",
        "*   Erick Jose Ruiz Acpsta\n",
        "\n"
      ]
    },
    {
      "cell_type": "markdown",
      "metadata": {
        "id": "MHvejD1tRdIi"
      },
      "source": [
        "## **Pregunta de Investigacion**\n",
        "\n",
        "¿Existe una relacion inherente entre la forma lexica y gramatica en que extructuran sus mensajes los politicos españoles pertenecientes a una misma corriente o partido politico?"
      ]
    },
    {
      "cell_type": "markdown",
      "metadata": {
        "id": "Lfnf35opVvUF"
      },
      "source": [
        "## **Hipotesis**\n",
        "\n",
        "Las personas pertenecientes a un mismo partido politico tienden a usar un conjunto de frases y palabras en comun a la hora de escribir en redes sociales, lo que permite identificarlos y clasificarlos."
      ]
    },
    {
      "cell_type": "code",
      "metadata": {
        "id": "c5x0jkQqA_DT"
      },
      "source": [
        "import pandas as pd\n",
        "import numpy as np\n",
        "import seaborn as sns\n",
        "from matplotlib import pyplot as plt\n",
        "from nltk import TweetTokenizer\n",
        "import regex as re\n",
        "from sklearn.feature_extraction.text import TfidfVectorizer,  CountVectorizer\n",
        "from sklearn.pipeline import FeatureUnion\n",
        "from collections import Counter\n",
        "from imblearn.over_sampling import RandomOverSampler\n",
        "from sklearn.linear_model import LogisticRegression\n",
        "from sklearn.model_selection import ShuffleSplit\n",
        "from sklearn.metrics import f1_score, accuracy_score, precision_score, recall_score, classification_report, confusion_matrix\n",
        "from text_processing import TextProcessing as tp\n",
        "from sklearn.svm import LinearSVC"
      ],
      "execution_count": null,
      "outputs": []
    },
    {
      "cell_type": "markdown",
      "metadata": {
        "id": "5tlUKMT7ttuj"
      },
      "source": [
        "# **Preprocesamiento**"
      ]
    },
    {
      "cell_type": "code",
      "metadata": {
        "id": "a_DOude7A_Da"
      },
      "source": [
        "# se cargan los datos\n",
        "df = pd.read_csv('tweets_politica_kaggle.csv', delimiter='\\t')"
      ],
      "execution_count": null,
      "outputs": []
    },
    {
      "cell_type": "code",
      "metadata": {
        "colab": {
          "base_uri": "https://localhost:8080/"
        },
        "id": "dYmYu7gVA_DZ",
        "outputId": "0083e6e0-380b-47cc-f1cc-6e0f46521f0e"
      },
      "source": [
        "# informacion general del dataset\n",
        "df.info()"
      ],
      "execution_count": null,
      "outputs": [
        {
          "output_type": "stream",
          "name": "stdout",
          "text": [
            "<class 'pandas.core.frame.DataFrame'>\n",
            "RangeIndex: 130039 entries, 0 to 130038\n",
            "Data columns (total 4 columns):\n",
            " #   Column     Non-Null Count   Dtype  \n",
            "---  ------     --------------   -----  \n",
            " 0   cuenta     130039 non-null  object \n",
            " 1   partido    130029 non-null  object \n",
            " 2   timestamp  130029 non-null  float64\n",
            " 3   tweet      130029 non-null  object \n",
            "dtypes: float64(1), object(3)\n",
            "memory usage: 4.0+ MB\n"
          ]
        }
      ]
    },
    {
      "cell_type": "code",
      "metadata": {
        "colab": {
          "base_uri": "https://localhost:8080/",
          "height": 202
        },
        "id": "2mQdULU-Q9uJ",
        "outputId": "bff07026-ca59-44cb-dd49-f6f45b943f05"
      },
      "source": [
        "# vista inicial de los primeros registros\n",
        "df.head()"
      ],
      "execution_count": null,
      "outputs": [
        {
          "output_type": "execute_result",
          "data": {
            "text/html": [
              "<div>\n",
              "<style scoped>\n",
              "    .dataframe tbody tr th:only-of-type {\n",
              "        vertical-align: middle;\n",
              "    }\n",
              "\n",
              "    .dataframe tbody tr th {\n",
              "        vertical-align: top;\n",
              "    }\n",
              "\n",
              "    .dataframe thead th {\n",
              "        text-align: right;\n",
              "    }\n",
              "</style>\n",
              "<table border=\"1\" class=\"dataframe\">\n",
              "  <thead>\n",
              "    <tr style=\"text-align: right;\">\n",
              "      <th></th>\n",
              "      <th>cuenta</th>\n",
              "      <th>partido</th>\n",
              "      <th>timestamp</th>\n",
              "      <th>tweet</th>\n",
              "    </tr>\n",
              "  </thead>\n",
              "  <tbody>\n",
              "    <tr>\n",
              "      <th>0</th>\n",
              "      <td>a34133350b0605cb24081843f63176ca</td>\n",
              "      <td>psoe</td>\n",
              "      <td>1.363973e+09</td>\n",
              "      <td>@vesteve3 @manubenas @ccoo_rm @desobediencia_ ...</td>\n",
              "    </tr>\n",
              "    <tr>\n",
              "      <th>1</th>\n",
              "      <td>a34133350b0605cb24081843f63176ca</td>\n",
              "      <td>psoe</td>\n",
              "      <td>1.364061e+09</td>\n",
              "      <td>“@kirovast: @Hugo_Moran muy fan de la \"radical...</td>\n",
              "    </tr>\n",
              "    <tr>\n",
              "      <th>2</th>\n",
              "      <td>a34133350b0605cb24081843f63176ca</td>\n",
              "      <td>psoe</td>\n",
              "      <td>1.364117e+09</td>\n",
              "      <td>@ALTAS_PRESIONES Nuevos dueños para las renova...</td>\n",
              "    </tr>\n",
              "    <tr>\n",
              "      <th>3</th>\n",
              "      <td>a34133350b0605cb24081843f63176ca</td>\n",
              "      <td>psoe</td>\n",
              "      <td>1.364121e+09</td>\n",
              "      <td>@jumanjisolar @solartradex @josea_dolera El di...</td>\n",
              "    </tr>\n",
              "    <tr>\n",
              "      <th>4</th>\n",
              "      <td>a34133350b0605cb24081843f63176ca</td>\n",
              "      <td>psoe</td>\n",
              "      <td>1.364153e+09</td>\n",
              "      <td>“@cesarnayu: https://t.co/J4OTXj1x7w … Por fav...</td>\n",
              "    </tr>\n",
              "  </tbody>\n",
              "</table>\n",
              "</div>"
            ],
            "text/plain": [
              "                             cuenta  ...                                              tweet\n",
              "0  a34133350b0605cb24081843f63176ca  ...  @vesteve3 @manubenas @ccoo_rm @desobediencia_ ...\n",
              "1  a34133350b0605cb24081843f63176ca  ...  “@kirovast: @Hugo_Moran muy fan de la \"radical...\n",
              "2  a34133350b0605cb24081843f63176ca  ...  @ALTAS_PRESIONES Nuevos dueños para las renova...\n",
              "3  a34133350b0605cb24081843f63176ca  ...  @jumanjisolar @solartradex @josea_dolera El di...\n",
              "4  a34133350b0605cb24081843f63176ca  ...  “@cesarnayu: https://t.co/J4OTXj1x7w … Por fav...\n",
              "\n",
              "[5 rows x 4 columns]"
            ]
          },
          "metadata": {},
          "execution_count": 35
        }
      ]
    },
    {
      "cell_type": "code",
      "metadata": {
        "colab": {
          "base_uri": "https://localhost:8080/"
        },
        "id": "jWtck8K_TaAL",
        "outputId": "a4194c0c-f241-40d4-ebaa-b384dad169d8"
      },
      "source": [
        "# verificacion defilas repetidas\n",
        "df.duplicated().sum()"
      ],
      "execution_count": null,
      "outputs": [
        {
          "output_type": "execute_result",
          "data": {
            "text/plain": [
              "383"
            ]
          },
          "metadata": {},
          "execution_count": 36
        }
      ]
    },
    {
      "cell_type": "code",
      "metadata": {
        "colab": {
          "base_uri": "https://localhost:8080/"
        },
        "id": "-2TsRMpMQ3qn",
        "outputId": "8f12b36e-737b-4542-b3b0-962fbf56f0e2"
      },
      "source": [
        "# eliminacion de filas repetidas\n",
        "df = df.drop_duplicates()\n",
        "df.shape[0]"
      ],
      "execution_count": null,
      "outputs": [
        {
          "output_type": "execute_result",
          "data": {
            "text/plain": [
              "129656"
            ]
          },
          "metadata": {},
          "execution_count": 37
        }
      ]
    },
    {
      "cell_type": "code",
      "metadata": {
        "colab": {
          "base_uri": "https://localhost:8080/"
        },
        "id": "t6MEYf1TU_Lq",
        "outputId": "0e580cf6-82e8-4871-ebc1-a2c53310b8b8"
      },
      "source": [
        "#verificacion de valores faltantes por columna\n",
        "df.isna().sum()"
      ],
      "execution_count": null,
      "outputs": [
        {
          "output_type": "execute_result",
          "data": {
            "text/plain": [
              "cuenta       0\n",
              "partido      1\n",
              "timestamp    1\n",
              "tweet        1\n",
              "dtype: int64"
            ]
          },
          "metadata": {},
          "execution_count": 38
        }
      ]
    },
    {
      "cell_type": "code",
      "metadata": {
        "colab": {
          "base_uri": "https://localhost:8080/"
        },
        "id": "fmBSLlTvZLy0",
        "outputId": "6c02ec96-a4ef-4875-fd4a-bb38ea146bf1"
      },
      "source": [
        "# eliminacion de filas con valores faltantes en al menos 3 columnas\n",
        "df = df.dropna(thresh = 3)\n",
        "df.shape[0]"
      ],
      "execution_count": null,
      "outputs": [
        {
          "output_type": "execute_result",
          "data": {
            "text/plain": [
              "129655"
            ]
          },
          "metadata": {},
          "execution_count": 39
        }
      ]
    },
    {
      "cell_type": "code",
      "metadata": {
        "colab": {
          "base_uri": "https://localhost:8080/"
        },
        "id": "eCIpTYOPA_Dc",
        "outputId": "cc058f61-bc9a-4b36-bda7-5dfd650ad909"
      },
      "source": [
        "# estadisticos categoricos para la columna objetivo \n",
        "df['partido'].describe()"
      ],
      "execution_count": null,
      "outputs": [
        {
          "output_type": "execute_result",
          "data": {
            "text/plain": [
              "count     129655\n",
              "unique         5\n",
              "top         psoe\n",
              "freq       28786\n",
              "Name: partido, dtype: object"
            ]
          },
          "metadata": {},
          "execution_count": 40
        }
      ]
    },
    {
      "cell_type": "code",
      "metadata": {
        "colab": {
          "base_uri": "https://localhost:8080/",
          "height": 518
        },
        "id": "QpxE8h2oA_Dc",
        "outputId": "6c559527-2ffc-4c1e-c280-554b6afb34e4"
      },
      "source": [
        "# gráficas y distribuciones de frecuencia\n",
        "fig, axes = plt.subplots(1,2,figsize=(15,8))\n",
        "pos = np.arange(len(df['partido'].unique()[:5]))\n",
        "bar = sns.countplot(ax=axes[0],x='partido',data=df ,order = df['partido'].value_counts().index)\n",
        "axes[0].tick_params(top=False, bottom=False, left=False, right=False, labelleft=False, labelbottom=True)\n",
        "for p in bar.patches:\n",
        "    bar.annotate(p.get_height(), \n",
        "                   (p.get_x() + p.get_width() / 2., p.get_height()), \n",
        "                   ha = 'center', va = 'center', \n",
        "                   xytext = (0, 9), \n",
        "                   textcoords = 'offset points')\n",
        "for pos in ['right', 'top', 'bottom', 'left']:\n",
        "    axes[0].spines[pos].set_visible(False)\n",
        "bar.set_ylabel('')\n",
        "bar.set_xlabel('Partido', size=13)\n",
        "bar.set_title('Conteo de tweets por partido político', size=15)\n",
        "pie = axes[1].pie(x=df['partido'].value_counts(),labels = df['partido'].unique()[:5],autopct='%.0f%%')\n",
        "_=axes[1].set_title('Distribución porcentual de los partidos', size=15)"
      ],
      "execution_count": null,
      "outputs": [
        {
          "output_type": "display_data",
          "data": {
            "image/png": "[encoded data removed]",
            "text/plain": [
              "<Figure size 1080x576 with 2 Axes>"
            ]
          },
          "metadata": {
            "needs_background": "light"
          }
        }
      ]
    },
    {
      "cell_type": "code",
      "metadata": {
        "id": "kUitJ3aIA_Dd"
      },
      "source": [
        "# Division de datos de entrenamiento y prueba usando muestreo aleatorio estratificado\n",
        "from stratified_sampling import random_stratified_sampling\n",
        "\n",
        "x_train, y_train, x_test, y_test = random_stratified_sampling(df,y='partido',test_size=0.2)"
      ],
      "execution_count": null,
      "outputs": []
    },
    {
      "cell_type": "code",
      "metadata": {
        "colab": {
          "base_uri": "https://localhost:8080/"
        },
        "id": "yKDfndbQA_De",
        "outputId": "b755912a-3028-4c74-f465-00315f2c60d1"
      },
      "source": [
        "# verificacion del balanceo de las clases para las pruebas\n",
        "y_test.value_counts()"
      ],
      "execution_count": null,
      "outputs": [
        {
          "output_type": "execute_result",
          "data": {
            "text/plain": [
              "vox           5186\n",
              "podemos       5186\n",
              "psoe          5186\n",
              "pp            5186\n",
              "ciudadanos    5186\n",
              "Name: partido, dtype: int64"
            ]
          },
          "metadata": {},
          "execution_count": 43
        }
      ]
    },
    {
      "cell_type": "code",
      "metadata": {
        "id": "_TY54ZcDRK9y"
      },
      "source": [
        "# funcion para limpiar el contenido de los tweets\n",
        "def remove_mentions_hastag_urls(content):\n",
        "  clean_tweet = tp.transformer(content)\n",
        "  clean_tweet = re.sub(\"mention\",\"\", clean_tweet)\n",
        "  clean_tweet = re.sub(\"emoji\",\"\", clean_tweet)\n",
        "  clean_tweet = re.sub(\"hastag\", \"\" , clean_tweet)\n",
        "  return clean_tweet\n",
        "# aplicamos la funcion para los datos de entrenamiento y prueba \n",
        "x_train['clean_tweet'] = x_train.apply(lambda row: remove_mentions_hastag_urls(row['tweet']), axis=1)\n",
        "x_test['clean_tweet'] = x_test.apply(lambda row: remove_mentions_hastag_urls(row['tweet']), axis=1)"
      ],
      "execution_count": null,
      "outputs": []
    },
    {
      "cell_type": "code",
      "metadata": {
        "id": "MwsViSiE9nEG"
      },
      "source": [
        "# tokenizacion de los tweets\n",
        "x_train['tokenized_tweet']  = x_train.apply(lambda row: TweetTokenizer().tokenize(row['clean_tweet']), axis=1)\n",
        "x_test['tokenized_tweet']  = x_test.apply(lambda row: TweetTokenizer().tokenize(row['clean_tweet']), axis=1)"
      ],
      "execution_count": null,
      "outputs": []
    },
    {
      "cell_type": "code",
      "metadata": {
        "colab": {
          "base_uri": "https://localhost:8080/",
          "height": 581
        },
        "id": "QXFGK6bSTK0B",
        "outputId": "3f4875e1-b200-4a47-8de9-b2171eea498c"
      },
      "source": [
        "# vista preliminar de la matriz de caracteristicas\n",
        "x_train"
      ],
      "execution_count": null,
      "outputs": [
        {
          "output_type": "execute_result",
          "data": {
            "text/html": [
              "<div>\n",
              "<style scoped>\n",
              "    .dataframe tbody tr th:only-of-type {\n",
              "        vertical-align: middle;\n",
              "    }\n",
              "\n",
              "    .dataframe tbody tr th {\n",
              "        vertical-align: top;\n",
              "    }\n",
              "\n",
              "    .dataframe thead th {\n",
              "        text-align: right;\n",
              "    }\n",
              "</style>\n",
              "<table border=\"1\" class=\"dataframe\">\n",
              "  <thead>\n",
              "    <tr style=\"text-align: right;\">\n",
              "      <th></th>\n",
              "      <th>cuenta</th>\n",
              "      <th>timestamp</th>\n",
              "      <th>tweet</th>\n",
              "      <th>clean_tweet</th>\n",
              "      <th>tokenized_tweet</th>\n",
              "    </tr>\n",
              "  </thead>\n",
              "  <tbody>\n",
              "    <tr>\n",
              "      <th>0</th>\n",
              "      <td>a34133350b0605cb24081843f63176ca</td>\n",
              "      <td>1.363973e+09</td>\n",
              "      <td>@vesteve3 @manubenas @ccoo_rm @desobediencia_ ...</td>\n",
              "      <td>buen animo para esta primavera que inici...</td>\n",
              "      <td>[buen, animo, para, esta, primavera, que, inic...</td>\n",
              "    </tr>\n",
              "    <tr>\n",
              "      <th>1</th>\n",
              "      <td>a34133350b0605cb24081843f63176ca</td>\n",
              "      <td>1.364117e+09</td>\n",
              "      <td>@ALTAS_PRESIONES Nuevos dueños para las renova...</td>\n",
              "      <td>nuevos duenos para las renovables. en ese mom...</td>\n",
              "      <td>[nuevos, duenos, para, las, renovables, ., en,...</td>\n",
              "    </tr>\n",
              "    <tr>\n",
              "      <th>2</th>\n",
              "      <td>a34133350b0605cb24081843f63176ca</td>\n",
              "      <td>1.364121e+09</td>\n",
              "      <td>@jumanjisolar @solartradex @josea_dolera El di...</td>\n",
              "      <td>el diferencial de precios energeticos con a...</td>\n",
              "      <td>[el, diferencial, de, precios, energeticos, co...</td>\n",
              "    </tr>\n",
              "    <tr>\n",
              "      <th>3</th>\n",
              "      <td>a34133350b0605cb24081843f63176ca</td>\n",
              "      <td>1.364155e+09</td>\n",
              "      <td>\"Cospedal: las crisis ya no afectan a España. ...</td>\n",
              "      <td>cospedal las crisis ya no afectan a espana. gu...</td>\n",
              "      <td>[cospedal, las, crisis, ya, no, afectan, a, es...</td>\n",
              "    </tr>\n",
              "    <tr>\n",
              "      <th>4</th>\n",
              "      <td>a34133350b0605cb24081843f63176ca</td>\n",
              "      <td>1.364202e+09</td>\n",
              "      <td>“@ventonoso: España importa ya energía de Port...</td>\n",
              "      <td>espana importa ya energia de portugal porque ...</td>\n",
              "      <td>[espana, importa, ya, energia, de, portugal, p...</td>\n",
              "    </tr>\n",
              "    <tr>\n",
              "      <th>...</th>\n",
              "      <td>...</td>\n",
              "      <td>...</td>\n",
              "      <td>...</td>\n",
              "      <td>...</td>\n",
              "      <td>...</td>\n",
              "    </tr>\n",
              "    <tr>\n",
              "      <th>103720</th>\n",
              "      <td>b4b003b4349b78f094d7018c2fdbb43a</td>\n",
              "      <td>1.633250e+09</td>\n",
              "      <td>Con la presencia de Rajoy y Feijoo no hacia fa...</td>\n",
              "      <td>con la presencia de rajoy y feijoo no hacia fa...</td>\n",
              "      <td>[con, la, presencia, de, rajoy, y, feijoo, no,...</td>\n",
              "    </tr>\n",
              "    <tr>\n",
              "      <th>103721</th>\n",
              "      <td>1e826d8471835f7feb02f8028b736ebb</td>\n",
              "      <td>1.633250e+09</td>\n",
              "      <td>“Querido Pablo, nos complace tu voluntad de re...</td>\n",
              "      <td>querido pablo nos complace tu voluntad de revi...</td>\n",
              "      <td>[querido, pablo, nos, complace, tu, voluntad, ...</td>\n",
              "    </tr>\n",
              "    <tr>\n",
              "      <th>103722</th>\n",
              "      <td>aeaa6ce266f823338e7d2222032a9edd</td>\n",
              "      <td>1.633250e+09</td>\n",
              "      <td>Quiero reivindicar la buena política, la de fr...</td>\n",
              "      <td>quiero reivindicar la buena politica la de fre...</td>\n",
              "      <td>[quiero, reivindicar, la, buena, politica, la,...</td>\n",
              "    </tr>\n",
              "    <tr>\n",
              "      <th>103723</th>\n",
              "      <td>aeaa6ce266f823338e7d2222032a9edd</td>\n",
              "      <td>1.633250e+09</td>\n",
              "      <td>🙋🏻‍♀️El pasado viernes se cumplió el aniversar...</td>\n",
              "      <td>el pasado viernes se cumplio el aniversario de...</td>\n",
              "      <td>[el, pasado, viernes, se, cumplio, el, anivers...</td>\n",
              "    </tr>\n",
              "    <tr>\n",
              "      <th>103724</th>\n",
              "      <td>1e826d8471835f7feb02f8028b736ebb</td>\n",
              "      <td>1.633250e+09</td>\n",
              "      <td>“Para nosotros la cuestión no es Europa sí o n...</td>\n",
              "      <td>para nosotros la cuestion no es europa si o no...</td>\n",
              "      <td>[para, nosotros, la, cuestion, no, es, europa,...</td>\n",
              "    </tr>\n",
              "  </tbody>\n",
              "</table>\n",
              "<p>103725 rows × 5 columns</p>\n",
              "</div>"
            ],
            "text/plain": [
              "                                  cuenta  ...                                    tokenized_tweet\n",
              "0       a34133350b0605cb24081843f63176ca  ...  [buen, animo, para, esta, primavera, que, inic...\n",
              "1       a34133350b0605cb24081843f63176ca  ...  [nuevos, duenos, para, las, renovables, ., en,...\n",
              "2       a34133350b0605cb24081843f63176ca  ...  [el, diferencial, de, precios, energeticos, co...\n",
              "3       a34133350b0605cb24081843f63176ca  ...  [cospedal, las, crisis, ya, no, afectan, a, es...\n",
              "4       a34133350b0605cb24081843f63176ca  ...  [espana, importa, ya, energia, de, portugal, p...\n",
              "...                                  ...  ...                                                ...\n",
              "103720  b4b003b4349b78f094d7018c2fdbb43a  ...  [con, la, presencia, de, rajoy, y, feijoo, no,...\n",
              "103721  1e826d8471835f7feb02f8028b736ebb  ...  [querido, pablo, nos, complace, tu, voluntad, ...\n",
              "103722  aeaa6ce266f823338e7d2222032a9edd  ...  [quiero, reivindicar, la, buena, politica, la,...\n",
              "103723  aeaa6ce266f823338e7d2222032a9edd  ...  [el, pasado, viernes, se, cumplio, el, anivers...\n",
              "103724  1e826d8471835f7feb02f8028b736ebb  ...  [para, nosotros, la, cuestion, no, es, europa,...\n",
              "\n",
              "[103725 rows x 5 columns]"
            ]
          },
          "metadata": {},
          "execution_count": 46
        }
      ]
    },
    {
      "cell_type": "markdown",
      "metadata": {
        "id": "bqNxjm-1t1SE"
      },
      "source": [
        "# **Extraccion de caracteristicas**"
      ]
    },
    {
      "cell_type": "markdown",
      "metadata": {
        "id": "jMRDcKoOSdiP"
      },
      "source": [
        "Una vez terminado el preprocesamiento de los datos procedemos a la extraccion de caracteristicas. Para este caso en particular decidimos elegir dos tecnicas, la primera es TF-IDF y la segunda es Bag of N-grams.\n",
        "\n",
        "En cuanto al detalle de los ngrams elegimos usar unigramas y bigramas.\n",
        "\n",
        "En una primera iteracion decidimos usar solamente bigramas, pero en busca de un mejorar las metricas, probamos con unigramas y bigramas obteniendo que el tiempo de entrenamiento del clasificador softmax se disparo al doble, pero el rendimiento del modelo reflejado en las metricas esocogidas para su evaluacion solo mejoro en alredor de un 3%. El acurracy en particular solo paso de 66,87 a 69,75.\n",
        "\n",
        "Basado en esos, decidimos volver a usar unigramas y bigramas e intentamos reducir la cantidad de caracteristicas eliminando palabras altamente repetitivas y que aportan poco valor, como lo son las stopwords. Entonces el acurracy paso a 69.64, un valor bastante mayor que la primera iteracion pero menor que la segunda iteracion, aunque el tiempo en esta tercera iteracion fue un poco menor que el de la segunda iteracion."
      ]
    },
    {
      "cell_type": "code",
      "metadata": {
        "id": "wwNLhNGPL5sX"
      },
      "source": [
        "tfidf_vector = TfidfVectorizer(min_df=2, max_df=0.5, ngram_range=(1, 2))\n",
        "bofngra_vector = CountVectorizer(analyzer='word', ngram_range=(1, 2))"
      ],
      "execution_count": null,
      "outputs": []
    },
    {
      "cell_type": "markdown",
      "metadata": {
        "id": "TH8yFslEnLJi"
      },
      "source": [
        "Utulizaremos features union para concatenar las caracteriticas obtenidas por los dos metodos"
      ]
    },
    {
      "cell_type": "code",
      "metadata": {
        "id": "V8mmOO3cWWgS"
      },
      "source": [
        "features_union = FeatureUnion([\n",
        "    ('bofngra_vector', bofngra_vector),\n",
        "    ('tfidf_vector', tfidf_vector)\n",
        "])"
      ],
      "execution_count": null,
      "outputs": []
    },
    {
      "cell_type": "code",
      "metadata": {
        "colab": {
          "base_uri": "https://localhost:8080/"
        },
        "id": "G6QQnxvneNiC",
        "outputId": "0e09efba-d2f2-424e-ccc1-772a57c77409"
      },
      "source": [
        "features_union.fit(x_train['clean_tweet'])"
      ],
      "execution_count": null,
      "outputs": [
        {
          "output_type": "execute_result",
          "data": {
            "text/plain": [
              "FeatureUnion(n_jobs=None,\n",
              "             transformer_list=[('bofngra_vector',\n",
              "                                CountVectorizer(analyzer='word', binary=False,\n",
              "                                                decode_error='strict',\n",
              "                                                dtype=<class 'numpy.int64'>,\n",
              "                                                encoding='utf-8',\n",
              "                                                input='content', lowercase=True,\n",
              "                                                max_df=1.0, max_features=None,\n",
              "                                                min_df=1, ngram_range=(1, 2),\n",
              "                                                preprocessor=None,\n",
              "                                                stop_words=None,\n",
              "                                                strip_accents=None,\n",
              "                                                token_pattern='(?u)\\\\b\\\\w\\\\w+\\\\b',\n",
              "                                                toke...\n",
              "                                                dtype=<class 'numpy.float64'>,\n",
              "                                                encoding='utf-8',\n",
              "                                                input='content', lowercase=True,\n",
              "                                                max_df=0.5, max_features=None,\n",
              "                                                min_df=2, ngram_range=(1, 2),\n",
              "                                                norm='l2', preprocessor=None,\n",
              "                                                smooth_idf=True,\n",
              "                                                stop_words=None,\n",
              "                                                strip_accents=None,\n",
              "                                                sublinear_tf=False,\n",
              "                                                token_pattern='(?u)\\\\b\\\\w\\\\w+\\\\b',\n",
              "                                                tokenizer=None, use_idf=True,\n",
              "                                                vocabulary=None))],\n",
              "             transformer_weights=None, verbose=False)"
            ]
          },
          "metadata": {},
          "execution_count": 49
        }
      ]
    },
    {
      "cell_type": "markdown",
      "metadata": {
        "id": "9fcWjA0gn47g"
      },
      "source": [
        "Aplicamos la transformacion tanto al dataset de entrenamiento como al de pruebas"
      ]
    },
    {
      "cell_type": "code",
      "metadata": {
        "id": "kNo-uVJkelLR"
      },
      "source": [
        "x_train = features_union.transform(x_train['clean_tweet'])\n",
        "x_test = features_union.transform(x_test['clean_tweet'])"
      ],
      "execution_count": null,
      "outputs": []
    },
    {
      "cell_type": "code",
      "metadata": {
        "colab": {
          "base_uri": "https://localhost:8080/"
        },
        "id": "CNiIuL1UgCky",
        "outputId": "4aa9a1cb-7c8f-449d-f713-0458f0631ec0"
      },
      "source": [
        "x_train"
      ],
      "execution_count": null,
      "outputs": [
        {
          "output_type": "execute_result",
          "data": {
            "text/plain": [
              "<103725x1059589 sparse matrix of type '<class 'numpy.float64'>'\n",
              "\twith 9365521 stored elements in Compressed Sparse Row format>"
            ]
          },
          "metadata": {},
          "execution_count": 51
        }
      ]
    },
    {
      "cell_type": "markdown",
      "metadata": {
        "id": "a-S-2jBxoC99"
      },
      "source": [
        "Nos aseguramos de que los dataset que contienen los targets tanto de entrenamiento como de prueba esten balanceados"
      ]
    },
    {
      "cell_type": "code",
      "metadata": {
        "colab": {
          "base_uri": "https://localhost:8080/"
        },
        "id": "u0LJzz_7oDv4",
        "outputId": "14c5d03c-e40f-4690-fc73-38820504dbe4"
      },
      "source": [
        "print('Muestra de entrenamiento:', sorted(Counter(y_train).items()))"
      ],
      "execution_count": null,
      "outputs": [
        {
          "output_type": "stream",
          "name": "stdout",
          "text": [
            "Muestra de entrenamiento: [('ciudadanos', 18268), ('podemos', 19604), ('pp', 20933), ('psoe', 23600), ('vox', 21320)]\n"
          ]
        }
      ]
    },
    {
      "cell_type": "code",
      "metadata": {
        "colab": {
          "base_uri": "https://localhost:8080/"
        },
        "id": "e861TJ_2pIgt",
        "outputId": "b52f619e-6627-4579-ca90-ebadc48f6850"
      },
      "source": [
        "print('Muestra de prueba:', sorted(Counter(y_test).items()))"
      ],
      "execution_count": null,
      "outputs": [
        {
          "output_type": "stream",
          "name": "stdout",
          "text": [
            "Muestra de prueba: [('ciudadanos', 5186), ('podemos', 5186), ('pp', 5186), ('psoe', 5186), ('vox', 5186)]\n"
          ]
        }
      ]
    },
    {
      "cell_type": "code",
      "metadata": {
        "colab": {
          "base_uri": "https://localhost:8080/"
        },
        "id": "VGrXHqnCptoU",
        "outputId": "a5d3c0d1-e66f-4836-a47c-0303d891d555"
      },
      "source": [
        "# decidimos hacer oversampler solamente del set de entrenamiento porque el de prueba ya estaba perfectamente balanceado\n",
        "ros_train = RandomOverSampler(random_state=1000)\n",
        "x_train, y_train = ros_train.fit_resample(x_train, y_train)"
      ],
      "execution_count": null,
      "outputs": [
        {
          "output_type": "stream",
          "name": "stderr",
          "text": [
            "/usr/local/lib/python3.7/dist-packages/sklearn/utils/deprecation.py:87: FutureWarning: Function safe_indexing is deprecated; safe_indexing is deprecated in version 0.22 and will be removed in version 0.24.\n",
            "  warnings.warn(msg, category=FutureWarning)\n"
          ]
        }
      ]
    },
    {
      "cell_type": "code",
      "metadata": {
        "colab": {
          "base_uri": "https://localhost:8080/"
        },
        "id": "BvtuIE0XqM7U",
        "outputId": "93c4b8fa-87cc-4b26-ca47-009015f1abc7"
      },
      "source": [
        "print('Sobremuestra de entrenamiento:', sorted(Counter(y_train).items()))"
      ],
      "execution_count": null,
      "outputs": [
        {
          "output_type": "stream",
          "name": "stdout",
          "text": [
            "Sobremuestra de entrenamiento: [('ciudadanos', 23600), ('podemos', 23600), ('pp', 23600), ('psoe', 23600), ('vox', 23600)]\n"
          ]
        }
      ]
    },
    {
      "cell_type": "markdown",
      "metadata": {
        "id": "DuyL6IfEuSLP"
      },
      "source": [
        "#**Entrenamiento**"
      ]
    },
    {
      "cell_type": "code",
      "metadata": {
        "id": "rm_kYOger3yV"
      },
      "source": [
        "kfold = ShuffleSplit(n_splits=5, test_size=0.25, random_state=42)"
      ],
      "execution_count": null,
      "outputs": []
    },
    {
      "cell_type": "code",
      "metadata": {
        "id": "fjAddoZFvFXN"
      },
      "source": [
        "accuracies_scores_smax, accuracies_scores_svm = [], []\n",
        "recalls_scores_smax, recalls_scores_svm = [], [] \n",
        "precisions_scores_smax, precisions_scores_svm = [], []\n",
        "f1_scores_smax, f1_scores_svm = [], []"
      ],
      "execution_count": null,
      "outputs": []
    },
    {
      "cell_type": "markdown",
      "metadata": {
        "id": "_nsoEjqptQLB"
      },
      "source": [
        "Inicializamos el primer clasificador que vamos a usar: **Softmax**"
      ]
    },
    {
      "cell_type": "code",
      "metadata": {
        "id": "bx0FOhJFsUqS"
      },
      "source": [
        "softmax = LogisticRegression(multi_class=\"multinomial\", solver=\"lbfgs\", C=10, max_iter=2000)"
      ],
      "execution_count": null,
      "outputs": []
    },
    {
      "cell_type": "markdown",
      "metadata": {
        "id": "1oSVcQQYbxA_"
      },
      "source": [
        "Inicializamos el segundo clasificador, usaremos: **Support Vector Machine**"
      ]
    },
    {
      "cell_type": "code",
      "metadata": {
        "id": "YZMHighYbuPf"
      },
      "source": [
        "clf = LinearSVC(C=0.1,max_iter=6000)"
      ],
      "execution_count": null,
      "outputs": []
    },
    {
      "cell_type": "markdown",
      "metadata": {
        "id": "2EafI07pOnSL"
      },
      "source": [
        "## Entrenamiento Softmax"
      ]
    },
    {
      "cell_type": "code",
      "metadata": {
        "id": "NSeQgHFEvK7J"
      },
      "source": [
        "for train_index, test_index in kfold.split(x_train, y_train):\n",
        "\n",
        "  data_train = x_train[train_index]\n",
        "  target_train = y_train[train_index]\n",
        "    \n",
        "  data_test = x_train[test_index]\n",
        "  target_test = y_train[test_index]\n",
        "\n",
        "  softmax.fit(data_train, target_train)\n",
        "  predict = softmax.predict(data_test)\n",
        "\n",
        "  # Accuracy\n",
        "  accuracy = accuracy_score(target_test, predict)\n",
        "  accuracies_scores_smax.append(accuracy)\n",
        "\n",
        "  # Recall\n",
        "  recall = recall_score(target_test, predict, average='macro')\n",
        "  recalls_scores_smax.append(recall)\n",
        "\n",
        "  # Precision\n",
        "  precision = precision_score(target_test, predict, average='weighted')\n",
        "  precisions_scores_smax.append(precision)\n",
        "\n",
        "  # F1\n",
        "  f1 = f1_score(target_test, predict, average='weighted')\n",
        "  f1_scores_smax.append(f1)"
      ],
      "execution_count": null,
      "outputs": []
    },
    {
      "cell_type": "code",
      "metadata": {
        "id": "F5HYovfOz2SR"
      },
      "source": [
        "average_smax_recall = round(np.mean(recalls_scores_smax) * 100, 2)\n",
        "average_smax_precision = round(np.mean(precisions_scores_smax) * 100, 2)\n",
        "average_smax_f1 = round(np.mean(f1_scores_smax) * 100, 2)\n",
        "average_smax_accuracy = round(np.mean(accuracies_scores_smax) * 100, 2)"
      ],
      "execution_count": null,
      "outputs": []
    },
    {
      "cell_type": "code",
      "metadata": {
        "id": "Dk2Wk6BXLY80"
      },
      "source": [
        "y_predict = []\n",
        "for features in x_test:\n",
        "    features = features.reshape(1, -1)\n",
        "    value = softmax.predict(features)[0]\n",
        "    y_predict.append(value)\n",
        "\n",
        "classification = classification_report(y_test, y_predict)\n",
        "confusion = confusion_matrix(y_predict, y_test)"
      ],
      "execution_count": null,
      "outputs": []
    },
    {
      "cell_type": "code",
      "metadata": {
        "colab": {
          "base_uri": "https://localhost:8080/"
        },
        "id": "KUue-skdOsEq",
        "outputId": "eb49a312-7f0d-4975-e66a-83bf47ce3d2d"
      },
      "source": [
        "print(f'Acurracy Softmax: {average_smax_accuracy}')\n",
        "print(f'F1-score Softmax: {average_smax_f1}')\n",
        "print(f'Precision Softmax: {average_smax_precision}')\n",
        "print(f'Recall Softmax: {average_smax_recall}\\n')\n",
        "print('*** Classification Report***\\n')\n",
        "print(classification + '\\n')\n",
        "print('*** Matriz de confusion***\\n')\n",
        "print(confusion)"
      ],
      "execution_count": null,
      "outputs": [
        {
          "output_type": "stream",
          "name": "stdout",
          "text": [
            "Acurracy Softmax: 69.65\n",
            "F1-score Softmax: 69.64\n",
            "Precision Softmax: 69.69\n",
            "Recall Softmax: 69.66\n",
            "\n",
            "*** Classification Report***\n",
            "\n",
            "              precision    recall  f1-score   support\n",
            "\n",
            "  ciudadanos       0.68      0.58      0.62      5186\n",
            "     podemos       0.69      0.66      0.67      5186\n",
            "          pp       0.58      0.61      0.60      5186\n",
            "        psoe       0.61      0.65      0.63      5186\n",
            "         vox       0.63      0.67      0.65      5186\n",
            "\n",
            "    accuracy                           0.63     25930\n",
            "   macro avg       0.64      0.63      0.63     25930\n",
            "weighted avg       0.64      0.63      0.63     25930\n",
            "\n",
            "\n",
            "*** Matriz de confusion***\n",
            "\n",
            "[[3007  260  566  269  352]\n",
            " [ 342 3408  298  553  340]\n",
            " [ 817  367 3175  515  571]\n",
            " [ 481  663  590 3349  447]\n",
            " [ 539  488  557  500 3476]]\n"
          ]
        }
      ]
    },
    {
      "cell_type": "markdown",
      "metadata": {
        "id": "AHQYN_bTPE6K"
      },
      "source": [
        "## Entrenamiento SVM"
      ]
    },
    {
      "cell_type": "code",
      "metadata": {
        "id": "2qYeB0CwPaKy"
      },
      "source": [
        "for train_index, test_index in kfold.split(x_train, y_train):\n",
        "\n",
        "  data_train = x_train[train_index]\n",
        "  target_train = y_train[train_index]\n",
        "    \n",
        "  data_test = x_train[test_index]\n",
        "  target_test = y_train[test_index]\n",
        "\n",
        "  clf.fit(data_train, target_train)\n",
        "  predict = clf.predict(data_test)\n",
        "\n",
        "  # Accuracy\n",
        "  accuracy = accuracy_score(target_test, predict)\n",
        "  accuracies_scores_svm.append(accuracy)\n",
        "\n",
        "  # Recall\n",
        "  recall = recall_score(target_test, predict, average='macro')\n",
        "  recalls_scores_svm.append(recall)\n",
        "\n",
        "  # Precision\n",
        "  precision = precision_score(target_test, predict, average='weighted')\n",
        "  precisions_scores_svm.append(precision)\n",
        "\n",
        "  # F1\n",
        "  f1 = f1_score(target_test, predict, average='weighted')\n",
        "  f1_scores_svm.append(f1)"
      ],
      "execution_count": null,
      "outputs": []
    },
    {
      "cell_type": "code",
      "metadata": {
        "id": "uDgpg2TqP0MP"
      },
      "source": [
        "average_svm_recall = round(np.mean(recalls_scores_svm) * 100, 2)\n",
        "average_svm_precision = round(np.mean(precisions_scores_svm) * 100, 2)\n",
        "average_svm_f1 = round(np.mean(f1_scores_svm) * 100, 2)\n",
        "average_svm_accuracy = round(np.mean(accuracies_scores_svm) * 100, 2)"
      ],
      "execution_count": null,
      "outputs": []
    },
    {
      "cell_type": "code",
      "metadata": {
        "id": "4rXKbsDTQBnS"
      },
      "source": [
        "y_predict = []\n",
        "for features in x_test:\n",
        "    features = features.reshape(1, -1)\n",
        "    value = clf.predict(features)[0]\n",
        "    y_predict.append(value)\n",
        "\n",
        "classification = classification_report(y_test, y_predict)\n",
        "confusion = confusion_matrix(y_predict, y_test)"
      ],
      "execution_count": null,
      "outputs": []
    },
    {
      "cell_type": "code",
      "metadata": {
        "id": "7b4thRb1QJvo",
        "colab": {
          "base_uri": "https://localhost:8080/"
        },
        "outputId": "8549bcc1-f503-433c-b926-86003e5be310"
      },
      "source": [
        "print(f'Acurracy SVM: {average_svm_accuracy}')\n",
        "print(f'F1-score SVM: {average_svm_f1}')\n",
        "print(f'Precision SVM: {average_svm_precision}')\n",
        "print(f'Recall SVM: {average_svm_recall}\\n')\n",
        "print('*** Classification Report***\\n')\n",
        "print(classification + '\\n')\n",
        "print('*** Matriz de confusion***\\n')\n",
        "print(confusion)"
      ],
      "execution_count": null,
      "outputs": [
        {
          "output_type": "stream",
          "name": "stdout",
          "text": [
            "Acurracy SVM: 70.47\n",
            "F1-score SVM: 70.48\n",
            "Precision SVM: 70.67\n",
            "Recall SVM: 70.47\n",
            "\n",
            "*** Classification Report***\n",
            "\n",
            "              precision    recall  f1-score   support\n",
            "\n",
            "  ciudadanos       0.68      0.58      0.62      5186\n",
            "     podemos       0.71      0.68      0.69      5186\n",
            "          pp       0.62      0.60      0.61      5186\n",
            "        psoe       0.62      0.65      0.63      5186\n",
            "         vox       0.61      0.71      0.65      5186\n",
            "\n",
            "    accuracy                           0.64     25930\n",
            "   macro avg       0.65      0.64      0.64     25930\n",
            "weighted avg       0.65      0.64      0.64     25930\n",
            "\n",
            "\n",
            "*** Matriz de confusion***\n",
            "\n",
            "[[3000  237  585  296  321]\n",
            " [ 340 3529  273  526  328]\n",
            " [ 736  285 3116  439  458]\n",
            " [ 472  621  546 3349  411]\n",
            " [ 638  514  666  576 3668]]\n"
          ]
        }
      ]
    },
    {
      "cell_type": "markdown",
      "metadata": {
        "id": "5FQlKoHE2Jhp"
      },
      "source": [
        "# **Conclusión**\n",
        "Realizados los entrenamientos y las pruebas podemos observar que ambos modelos tanto regresión logística como maquina de soporte vectorial \n",
        "dan unos buenos puntajes para las métricas evaluadas, sin embargo, la máquina de soporte vectorial es en promedio un 0.086% más eficiente \n",
        "en promedio en todas las métricas evaluadas. Ademas de que los tiempos de entrenamiento para la maquina vectorial se vieron disminuidos \n",
        "sustancialmente.\n"
      ]
    }
  ]
}